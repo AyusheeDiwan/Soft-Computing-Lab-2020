{
  "nbformat": 4,
  "nbformat_minor": 0,
  "metadata": {
    "colab": {
      "name": "Untitled3.ipynb",
      "provenance": [],
      "collapsed_sections": [],
      "authorship_tag": "ABX9TyOvgz7BcTgpLN4S+Ddqw44M",
      "include_colab_link": true
    },
    "kernelspec": {
      "name": "python3",
      "display_name": "Python 3"
    }
  },
  "cells": [
    {
      "cell_type": "markdown",
      "metadata": {
        "id": "view-in-github",
        "colab_type": "text"
      },
      "source": [
        "<a href=\"https://colab.research.google.com/github/arunima27-3-99/Soft-Computing-Lab-2020/blob/master/Untitled3.ipynb\" target=\"_parent\"><img src=\"https://colab.research.google.com/assets/colab-badge.svg\" alt=\"Open In Colab\"/></a>"
      ]
    },
    {
      "cell_type": "code",
      "metadata": {
        "id": "9kwGoerNt-WU"
      },
      "source": [
        "import matplotlib.pyplot as plt"
      ],
      "execution_count": null,
      "outputs": []
    },
    {
      "cell_type": "code",
      "metadata": {
        "colab": {
          "base_uri": "https://localhost:8080/",
          "height": 265
        },
        "id": "378QbScLuFiX",
        "outputId": "d1d5b171-bc38-4ef5-840a-639bbf2f81e6"
      },
      "source": [
        "from matplotlib import pyplot as plt \n",
        "  \n",
        "x = [6, 1, 12, 3, 5]  # x-axis \n",
        "   \n",
        "y = [8, 3, 7, 4, 2] # Y-axis \n",
        "  \n",
        "plt.plot(x,y,color='yellow')  #  plot \n",
        "   \n",
        "plt.show()"
      ],
      "execution_count": null,
      "outputs": [
        {
          "output_type": "display_data",
          "data": {
            "image/png": "[encoded data removed]",
            "text/plain": [
              "<Figure size 432x288 with 1 Axes>"
            ]
          },
          "metadata": {
            "tags": [],
            "needs_background": "light"
          }
        }
      ]
    },
    {
      "cell_type": "markdown",
      "metadata": {
        "id": "gUUglhOCuxI2"
      },
      "source": [
        "BAR PLOT"
      ]
    },
    {
      "cell_type": "code",
      "metadata": {
        "colab": {
          "base_uri": "https://localhost:8080/",
          "height": 265
        },
        "id": "782eydjZuu1C",
        "outputId": "a100bf9e-7d26-4002-dd24-a5dec3665487"
      },
      "source": [
        "from matplotlib import pyplot as plt \n",
        "  \n",
        "x = [6, 1, 12, 3, 5]  # x-axis\n",
        "   \n",
        "y = [8, 3, 7, 4, 2] # Y-axis\n",
        "  \n",
        "plt.bar(x,y,color='red')  #plot \n",
        "   \n",
        "plt.show()"
      ],
      "execution_count": null,
      "outputs": [
        {
          "output_type": "display_data",
          "data": {
            "image/png": "[encoded data removed]",
            "text/plain": [
              "<Figure size 432x288 with 1 Axes>"
            ]
          },
          "metadata": {
            "tags": [],
            "needs_background": "light"
          }
        }
      ]
    },
    {
      "cell_type": "markdown",
      "metadata": {
        "id": "YIDv14HVvIEz"
      },
      "source": [
        "HISTOGRAM"
      ]
    },
    {
      "cell_type": "code",
      "metadata": {
        "colab": {
          "base_uri": "https://localhost:8080/",
          "height": 265
        },
        "id": "V51isgAFvJAB",
        "outputId": "91fe97e1-f3e8-4d2c-842e-a94a836811e1"
      },
      "source": [
        "from matplotlib import pyplot as plt \n",
        "    \n",
        "y = [6, 3, 7, 1, 2] # Y-axis\n",
        "  \n",
        "plt.hist(y,color='blue')        #  plot \n",
        "   \n",
        "plt.show()"
      ],
      "execution_count": null,
      "outputs": [
        {
          "output_type": "display_data",
          "data": {
            "image/png": "[encoded data removed]",
            "text/plain": [
              "<Figure size 432x288 with 1 Axes>"
            ]
          },
          "metadata": {
            "tags": [],
            "needs_background": "light"
          }
        }
      ]
    },
    {
      "cell_type": "markdown",
      "metadata": {
        "id": "9JZqIlscvZIA"
      },
      "source": [
        "SCATTER PLOT"
      ]
    },
    {
      "cell_type": "code",
      "metadata": {
        "colab": {
          "base_uri": "https://localhost:8080/",
          "height": 265
        },
        "id": "8xFNNptjvZsI",
        "outputId": "64e03b6b-9e40-4ec1-ccbb-e35622f8fc59"
      },
      "source": [
        "\n",
        "from matplotlib import pyplot as plt \n",
        "  \n",
        "x = [5, 1, 1, 5, 4]  # x-axis \n",
        "   \n",
        "y = [7, 3, 7, 4, 2] # Y-axis\n",
        "  \n",
        "plt.scatter(x,y,color='green')   #plot \n",
        "   \n",
        "plt.show()"
      ],
      "execution_count": null,
      "outputs": [
        {
          "output_type": "display_data",
          "data": {
            "image/png": "[encoded data removed]",
            "text/plain": [
              "<Figure size 432x288 with 1 Axes>"
            ]
          },
          "metadata": {
            "tags": [],
            "needs_background": "light"
          }
        }
      ]
    }
  ]
}
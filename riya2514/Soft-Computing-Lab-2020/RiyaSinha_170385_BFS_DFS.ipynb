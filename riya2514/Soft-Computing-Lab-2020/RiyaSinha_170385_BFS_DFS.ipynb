{
  "nbformat": 4,
  "nbformat_minor": 0,
  "metadata": {
    "colab": {
      "name": "RiyaSinha_170385_BFS_DFS.ipynb",
      "provenance": []
    },
    "kernelspec": {
      "name": "python3",
      "display_name": "Python 3"
    }
  },
  "cells": [
    {
      "cell_type": "markdown",
      "metadata": {
        "id": "nWQqoFxKBRmT"
      },
      "source": [
        "## AIM: Write a program to implement the following searching techniques: BFS and DFS"
      ]
    },
    {
      "cell_type": "code",
      "metadata": {
        "colab": {
          "base_uri": "https://localhost:8080/"
        },
        "id": "7CUsA7Ng70gh",
        "outputId": "7e8c024c-c9bf-4968-dcee-6e8a5ab2d619"
      },
      "source": [
        "import collections\n",
        "\n",
        "# BFS algorithm\n",
        "graph = {'A': ['B','C'],\n",
        "         'B': ['A','D','E'],\n",
        "         'C': ['F','G','A'],\n",
        "         'D': ['B'],\n",
        "         'E': ['H','B'],\n",
        "         'F': ['C'],\n",
        "         'G': ['C'],\n",
        "         'H': ['E']\n",
        "        }\n",
        "def bfs(graph, root):\n",
        "    visited, queue = set([root]), collections.deque([root])\n",
        "    while queue:\n",
        "        vertex = queue.popleft()\n",
        "        visit(vertex)\n",
        "        for node in graph[vertex]:\n",
        "            if node not in visited:\n",
        "                visited.add(node)\n",
        "                queue.append(node)\n",
        "\n",
        "def visit(n): print(n)\n",
        "bfs(graph, 'A')\n",
        "\n",
        "\n"
      ],
      "execution_count": 33,
      "outputs": [
        {
          "output_type": "stream",
          "text": [
            "A\n",
            "B\n",
            "C\n",
            "D\n",
            "E\n",
            "F\n",
            "G\n",
            "H\n"
          ],
          "name": "stdout"
        }
      ]
    },
    {
      "cell_type": "code",
      "metadata": {
        "colab": {
          "base_uri": "https://localhost:8080/"
        },
        "id": "WU8Vkj1RBfMA",
        "outputId": "f8d5d442-97f0-4a1f-b00f-2cc71dd4a605"
      },
      "source": [
        "import collections\n",
        "graph = {'A': ['B','C'],\n",
        "         'B': ['A','D','E'],\n",
        "         'C': ['F','G','A'],\n",
        "         'D': ['B'],\n",
        "         'E': ['H','B'],\n",
        "         'F': ['C'],\n",
        "         'G': ['C'],\n",
        "         'H': ['E']\n",
        "        }\n",
        "\n",
        "def dfs(graph,start,end,route,list):\n",
        "    route+=[start]\n",
        "    if start == end:\n",
        "        list.extend(route)\n",
        "    else:\n",
        "        for node in graph[start]:\n",
        "            if node not in route:\n",
        "                dfs(graph,node,end,route,list)\n",
        "\n",
        "def dfs_route(graph,start,end):\n",
        "      list = []\n",
        "      dfs(graph,start,end,[],list)\n",
        "      return list\n",
        "\n",
        "print(dfs_route(graph,'A','G'))\n"
      ],
      "execution_count": 34,
      "outputs": [
        {
          "output_type": "stream",
          "text": [
            "['A', 'B', 'D', 'E', 'H', 'C', 'F', 'G']\n"
          ],
          "name": "stdout"
        }
      ]
    },
    {
      "cell_type": "markdown",
      "metadata": {
        "id": "f_j2HaFWBuPq"
      },
      "source": [
        "Submitted by : Riya Sinha"
      ]
    }
  ]
}
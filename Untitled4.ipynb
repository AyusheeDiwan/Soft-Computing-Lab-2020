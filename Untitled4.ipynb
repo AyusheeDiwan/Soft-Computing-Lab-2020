{
  "nbformat": 4,
  "nbformat_minor": 0,
  "metadata": {
    "colab": {
      "name": "Untitled4.ipynb",
      "provenance": [],
      "authorship_tag": "ABX9TyOBQhPuhjJtffRoBmCdwkS1",
      "include_colab_link": true
    },
    "kernelspec": {
      "name": "python3",
      "display_name": "Python 3"
    }
  },
  "cells": [
    {
      "cell_type": "markdown",
      "metadata": {
        "id": "view-in-github",
        "colab_type": "text"
      },
      "source": [
        "<a href=\"https://colab.research.google.com/github/arunima27-3-99/Soft-Computing-Lab-2020/blob/master/Untitled4.ipynb\" target=\"_parent\"><img src=\"https://colab.research.google.com/assets/colab-badge.svg\" alt=\"Open In Colab\"/></a>"
      ]
    },
    {
      "cell_type": "code",
      "metadata": {
        "id": "L7Mmd7Fpwotr"
      },
      "source": [
        "import numpy"
      ],
      "execution_count": 1,
      "outputs": []
    },
    {
      "cell_type": "code",
      "metadata": {
        "colab": {
          "base_uri": "https://localhost:8080/"
        },
        "id": "Qtxi0DNjwsWn",
        "outputId": "9a050212-00b2-476d-cc8f-c42da1fa2e8c"
      },
      "source": [
        "mat1 = numpy.array([[1, 2], [3, 5]])\n",
        "mat2 = numpy.array([[4, 8], [6, 10]])\n",
        "\n",
        "print (\"Addition of two matrices: \") \n",
        "print (numpy.add(mat1,mat2))       #  a add matrices\n",
        "\n",
        "print (\"Subtraction of two matrices : \") \n",
        "print (numpy.subtract(mat1,mat2))  #  subtract matrices\n",
        "\n",
        "print (\"Matrix Division : \")\n",
        "print (numpy.divide(mat1,mat2))    #divide matrices\n",
        "\n",
        "print (\"Multiplication of two matrices: \")\n",
        "print (numpy.multiply(mat1,mat2))   #multiply matrices\n",
        "\n",
        "print (\"The product of two matrices : \")\n",
        "print (numpy.dot(mat1,mat2))\n",
        "\n",
        "print (\"square root is : \")\n",
        "print (numpy.sqrt(mat1))            # Square root\n",
        "\n",
        "print (\"The summation of elements : \")  \n",
        "print (numpy.sum(mat2))             #Addition of all the elements\n",
        "\n",
        "print (\"The column wise summation  : \")\n",
        "print (numpy.sum(mat2,axis=0))\n",
        "\n",
        "print (\"The row wise summation: \")\n",
        "print (numpy.sum(mat2,axis=1))\n",
        "\n",
        "print (\"Matrix transposition : \")\n",
        "print (mat1.T)                      # using \"T\" to transpose the matrix"
      ],
      "execution_count": 2,
      "outputs": [
        {
          "output_type": "stream",
          "text": [
            "Addition of two matrices: \n",
            "[[ 5 10]\n",
            " [ 9 15]]\n",
            "Subtraction of two matrices : \n",
            "[[-3 -6]\n",
            " [-3 -5]]\n",
            "Matrix Division : \n",
            "[[0.25 0.25]\n",
            " [0.5  0.5 ]]\n",
            "Multiplication of two matrices: \n",
            "[[ 4 16]\n",
            " [18 50]]\n",
            "The product of two matrices : \n",
            "[[16 28]\n",
            " [42 74]]\n",
            "square root is : \n",
            "[[1.         1.41421356]\n",
            " [1.73205081 2.23606798]]\n",
            "The summation of elements : \n",
            "28\n",
            "The column wise summation  : \n",
            "[10 18]\n",
            "The row wise summation: \n",
            "[12 16]\n",
            "Matrix transposition : \n",
            "[[1 3]\n",
            " [2 5]]\n"
          ],
          "name": "stdout"
        }
      ]
    }
  ]
}
{
 "cells": [
  {
   "cell_type": "markdown",
   "metadata": {},
   "source": [
    "# Write a program to implement the following searching techniques:BFS and DFS\n"
   ]
  },
  {
   "cell_type": "raw",
   "metadata": {},
   "source": [
    "BFS"
   ]
  },
  {
   "cell_type": "code",
   "execution_count": 5,
   "metadata": {},
   "outputs": [
    {
     "name": "stdout",
     "output_type": "stream",
     "text": [
      "A\n",
      "B\n",
      "C\n",
      "D\n",
      "E\n",
      "F\n",
      "G\n",
      "H\n"
     ]
    }
   ],
   "source": [
    "import collections\n",
    "graph = {'A': ['B','C'],\n",
    "         'B': ['A','D','E'],\n",
    "         'C': ['F','G','A'],\n",
    "         'D': ['B'],\n",
    "         'E': ['H','B'],\n",
    "         'F': ['C'],\n",
    "         'G': ['C'],\n",
    "         'H': ['E']\n",
    "        }\n",
    "def bfs(graph, root):\n",
    "    visited, queue = set([root]), collections.deque([root])\n",
    "    while queue:\n",
    "        vertex = queue.popleft()\n",
    "        visit(vertex)\n",
    "        for node in graph[vertex]:\n",
    "            if node not in visited:\n",
    "                visited.add(node)\n",
    "                queue.append(node)\n",
    "\n",
    "def visit(n): print(n)\n",
    "bfs(graph, 'A')\n"
   ]
  },
  {
   "cell_type": "raw",
   "metadata": {},
   "source": [
    "DFS"
   ]
  },
  {
   "cell_type": "code",
   "execution_count": 6,
   "metadata": {},
   "outputs": [
    {
     "name": "stdout",
     "output_type": "stream",
     "text": [
      "['A', 'B', 'D', 'E', 'H', 'C', 'F', 'G']\n"
     ]
    }
   ],
   "source": [
    "graph = {'A': ['B','C'],\n",
    "         'B': ['A','D','E'],\n",
    "         'C': ['F','G','A'],\n",
    "         'D': ['B'],\n",
    "         'E': ['H','B'],\n",
    "         'F': ['C'],\n",
    "         'G': ['C'],\n",
    "         'H': ['E']\n",
    "        }\n",
    "\n",
    "def dfs(graph,start,end,route,list):\n",
    "    route+=[start]\n",
    "    if start == end:\n",
    "        list.extend(route)\n",
    "    else:\n",
    "        for node in graph[start]:\n",
    "            if node not in route:\n",
    "                dfs(graph,node,end,route,list)\n",
    "\n",
    "def dfs_route(graph,start,end):\n",
    "      list = []\n",
    "      dfs(graph,start,end,[],list)\n",
    "      return list\n",
    "\n",
    "print(dfs_route(graph,'A','G'))\n",
    "\n"
   ]
  },
  {
   "cell_type": "code",
   "execution_count": null,
   "metadata": {},
   "outputs": [],
   "source": []
  }
 ],
 "metadata": {
  "kernelspec": {
   "display_name": "Python 3",
   "language": "python",
   "name": "python3"
  },
  "language_info": {
   "codemirror_mode": {
    "name": "ipython",
    "version": 3
   },
   "file_extension": ".py",
   "mimetype": "text/x-python",
   "name": "python",
   "nbconvert_exporter": "python",
   "pygments_lexer": "ipython3",
   "version": "3.8.3"
  }
 },
 "nbformat": 4,
 "nbformat_minor": 4
}

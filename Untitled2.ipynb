{
  "nbformat": 4,
  "nbformat_minor": 0,
  "metadata": {
    "colab": {
      "name": "Untitled2.ipynb",
      "provenance": [],
      "authorship_tag": "ABX9TyN4e1mKaM90WpK43GxMOAsF",
      "include_colab_link": true
    },
    "kernelspec": {
      "name": "python3",
      "display_name": "Python 3"
    }
  },
  "cells": [
    {
      "cell_type": "markdown",
      "metadata": {
        "id": "view-in-github",
        "colab_type": "text"
      },
      "source": [
        "<a href=\"https://colab.research.google.com/github/arunima27-3-99/Soft-Computing-Lab-2020/blob/master/Untitled2.ipynb\" target=\"_parent\"><img src=\"https://colab.research.google.com/assets/colab-badge.svg\" alt=\"Open In Colab\"/></a>"
      ]
    },
    {
      "cell_type": "markdown",
      "metadata": {
        "id": "W6U1wdbGq3Cv"
      },
      "source": [
        "DATA STRUCTURES"
      ]
    },
    {
      "cell_type": "markdown",
      "metadata": {
        "id": "VoZAXMPzq73U"
      },
      "source": [
        "Built-in data structures"
      ]
    },
    {
      "cell_type": "code",
      "metadata": {
        "colab": {
          "base_uri": "https://localhost:8080/"
        },
        "id": "B9j3bH8VqycK",
        "outputId": "5cb51bca-5982-44cb-f899-d44e552d229a"
      },
      "source": [
        "list = [1,2.7,4,5,2,'hii']\n",
        "print(list)"
      ],
      "execution_count": 3,
      "outputs": [
        {
          "output_type": "stream",
          "text": [
            "[1, 2.7, 4, 5, 2, 'hii']\n"
          ],
          "name": "stdout"
        }
      ]
    },
    {
      "cell_type": "code",
      "metadata": {
        "colab": {
          "base_uri": "https://localhost:8080/"
        },
        "id": "g3pH1xZErCmc",
        "outputId": "413d622c-69a0-452e-fb3c-2eb89ed27c82"
      },
      "source": [
        "list.append([4]) \n",
        "list.extend([33,\"hi\"]) \n",
        "list.insert(2,'how') \n",
        "print(list)"
      ],
      "execution_count": 4,
      "outputs": [
        {
          "output_type": "stream",
          "text": [
            "[1, 2.7, 'how', 4, 5, 2, 'hii', [4], 33, 'hi']\n"
          ],
          "name": "stdout"
        }
      ]
    },
    {
      "cell_type": "markdown",
      "metadata": {
        "id": "1FMKAMK2qzTR"
      },
      "source": [
        ""
      ]
    },
    {
      "cell_type": "code",
      "metadata": {
        "colab": {
          "base_uri": "https://localhost:8080/"
        },
        "id": "Og6e0JASrhjp",
        "outputId": "cc5a9376-9484-4a73-917f-3be5c83fae75"
      },
      "source": [
        "del list[2] #Delete\n",
        "list.pop(5) #Remove\n",
        "print(list)"
      ],
      "execution_count": 5,
      "outputs": [
        {
          "output_type": "stream",
          "text": [
            "[1, 2.7, 4, 5, 2, [4], 33, 'hi']\n"
          ],
          "name": "stdout"
        }
      ]
    },
    {
      "cell_type": "code",
      "metadata": {
        "colab": {
          "base_uri": "https://localhost:8080/"
        },
        "id": "7DQWa1MOrlbR",
        "outputId": "9234052a-9763-45ec-d746-e26455319ad8"
      },
      "source": [
        "for i in list:\n",
        "    print(i)    #Accessing"
      ],
      "execution_count": 6,
      "outputs": [
        {
          "output_type": "stream",
          "text": [
            "1\n",
            "2.7\n",
            "4\n",
            "5\n",
            "2\n",
            "[4]\n",
            "33\n",
            "hi\n"
          ],
          "name": "stdout"
        }
      ]
    },
    {
      "cell_type": "markdown",
      "metadata": {
        "id": "aq5vquZbrwZq"
      },
      "source": [
        "DICTIONARY "
      ]
    },
    {
      "cell_type": "code",
      "metadata": {
        "colab": {
          "base_uri": "https://localhost:8080/"
        },
        "id": "Orl-hYaXrquL",
        "outputId": "95f0d07c-e17e-4df0-af48-d113654b7c3f"
      },
      "source": [
        "dict = {1:'HI',2:'HELLO'}\n",
        "print(dict)"
      ],
      "execution_count": 7,
      "outputs": [
        {
          "output_type": "stream",
          "text": [
            "{1: 'HI', 2: 'HELLO'}\n"
          ],
          "name": "stdout"
        }
      ]
    },
    {
      "cell_type": "code",
      "metadata": {
        "colab": {
          "base_uri": "https://localhost:8080/"
        },
        "id": "jxYdihRWr5vy",
        "outputId": "668e0ee3-f080-4ffb-a485-a2161c214bbe"
      },
      "source": [
        "dict[2]='HEY'#Changing \n",
        "dict[3]=\"WHAT'S UP\"#Adding \n",
        "print(dict)"
      ],
      "execution_count": 8,
      "outputs": [
        {
          "output_type": "stream",
          "text": [
            "{1: 'HI', 2: 'HEY', 3: \"WHAT'S UP\"}\n"
          ],
          "name": "stdout"
        }
      ]
    },
    {
      "cell_type": "code",
      "metadata": {
        "colab": {
          "base_uri": "https://localhost:8080/"
        },
        "id": "PSZkk-iPsBlQ",
        "outputId": "8ca308fe-4751-4167-fc6d-8e93dc850ba3"
      },
      "source": [
        "dict.pop(2) #Pop \n",
        "print(dict)"
      ],
      "execution_count": 9,
      "outputs": [
        {
          "output_type": "stream",
          "text": [
            "{1: 'HI', 3: \"WHAT'S UP\"}\n"
          ],
          "name": "stdout"
        }
      ]
    },
    {
      "cell_type": "code",
      "metadata": {
        "colab": {
          "base_uri": "https://localhost:8080/"
        },
        "id": "AyqXJVQjsJCe",
        "outputId": "df5e63b3-3f93-4acc-9464-de1cc4c17756"
      },
      "source": [
        "dict.clear() #Empty\n",
        "print(dict)"
      ],
      "execution_count": 10,
      "outputs": [
        {
          "output_type": "stream",
          "text": [
            "{}\n"
          ],
          "name": "stdout"
        }
      ]
    },
    {
      "cell_type": "code",
      "metadata": {
        "id": "7GQQaER5sQdV"
      },
      "source": [
        ""
      ],
      "execution_count": null,
      "outputs": []
    },
    {
      "cell_type": "markdown",
      "metadata": {
        "id": "97b9XTW0sS-y"
      },
      "source": [
        "TUPLE\n"
      ]
    },
    {
      "cell_type": "code",
      "metadata": {
        "colab": {
          "base_uri": "https://localhost:8080/"
        },
        "id": "ljthmrFPsU3D",
        "outputId": "a0b9eb81-79b3-49d8-e574-7b61ff0a1a38"
      },
      "source": [
        "tup=(4,5,6)\n",
        "print(tup)"
      ],
      "execution_count": 11,
      "outputs": [
        {
          "output_type": "stream",
          "text": [
            "(4, 5, 6)\n"
          ],
          "name": "stdout"
        }
      ]
    },
    {
      "cell_type": "code",
      "metadata": {
        "colab": {
          "base_uri": "https://localhost:8080/"
        },
        "id": "QQUgIvuZscNp",
        "outputId": "ade31cff-dd55-46b5-87a9-ed7369a4cf2d"
      },
      "source": [
        "tup = tup+(1,2,3)  # Adding \n",
        "print(tup) "
      ],
      "execution_count": 12,
      "outputs": [
        {
          "output_type": "stream",
          "text": [
            "(4, 5, 6, 1, 2, 3)\n"
          ],
          "name": "stdout"
        }
      ]
    },
    {
      "cell_type": "markdown",
      "metadata": {
        "id": "YXfqQR8Dslcz"
      },
      "source": [
        "SETS"
      ]
    },
    {
      "cell_type": "code",
      "metadata": {
        "colab": {
          "base_uri": "https://localhost:8080/"
        },
        "id": "fnD6xEw5sjP4",
        "outputId": "2301f0c8-1c2b-4e38-81cd-5b418b66bda4"
      },
      "source": [
        "set1={1,2,3}\n",
        "print(set)"
      ],
      "execution_count": 13,
      "outputs": [
        {
          "output_type": "stream",
          "text": [
            "<class 'set'>\n"
          ],
          "name": "stdout"
        }
      ]
    },
    {
      "cell_type": "code",
      "metadata": {
        "colab": {
          "base_uri": "https://localhost:8080/"
        },
        "id": "-paoiqZbsrEK",
        "outputId": "422c7a11-b172-496b-b7ae-7210193b4eb0"
      },
      "source": [
        "set2 ={3,4,5}\n",
        "print(set.union(set1,set2)) #Combining\n",
        "print(set.intersection(set1,set2)) \n",
        "print(set.difference(set1-set2)) #Delete"
      ],
      "execution_count": 14,
      "outputs": [
        {
          "output_type": "stream",
          "text": [
            "{1, 2, 3, 4, 5}\n",
            "{3}\n",
            "{1, 2}\n"
          ],
          "name": "stdout"
        }
      ]
    }
  ]
}